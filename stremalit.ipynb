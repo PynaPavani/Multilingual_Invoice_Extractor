{
 "cells": [
  {
   "cell_type": "code",
   "execution_count": 11,
   "metadata": {},
   "outputs": [
    {
     "name": "stdout",
     "output_type": "stream",
     "text": [
      "Overwriting app.py\n"
     ]
    }
   ],
   "source": [
    "%%writefile app.py\n",
    "import streamlit as st\n",
    "import os\n",
    "from PIL import Image\n",
    "import google.generativeai as genai\n",
    "genai.configure(api_key=os.getenv('GOOGLE_API_KEY'))\n",
    "\n",
    "model=genai.GenerativeModel('gemini-pro-vision')\n",
    "def get_gemini_response(input,image,prompt):\n",
    "    response=model.generate_content([input,image[0],prompt])\n",
    "    return response.text\n",
    "\n",
    "def input_image(uploaded_file):\n",
    "    if uploaded_file is not None:\n",
    "        bytes_data=uploaded_file.getvalue()\n",
    "        image_parts=[{\"mime_type\":uploaded_file.type,\n",
    "                      \"data\":bytes_data}]\n",
    "        return image_parts\n",
    "    else:\n",
    "        raise FileNotFoundError(\"No file uplaoded\")\n",
    "\n",
    "\n",
    "st.set_page_config(page_title=\"Multilanguage Invoice Extractor App\")\n",
    "st.header(\"Google Gemini Application\")\n",
    "input=st.text_input(\"Input Prompt: \",key=\"input\")\n",
    "uploaded_file=st.file_uploader(\"Choose an Image...\",type=[\"jpg\",'png','jpeg'])\n",
    "iamge=\"\"\n",
    "if uploaded_file is not None:\n",
    "    image=Image.open(uploaded_file)\n",
    "    st.image(image,caption=\"Uploaded Image.\",use_column_width=True)\n",
    "\n",
    "submit=st.button(\"Tell me about the Invoice\")\n",
    "input_prompt=\"\"\"\n",
    "You are an expert in understaing Invoices . User will uplozd an image , you has to answer the questions based on the invoice image given \n",
    "\"\"\"\n",
    "\n",
    "if submit:\n",
    "    image_data=input_image(uploaded_file)\n",
    "    response=get_gemini_response(input_prompt,image_data,input)\n",
    "    st.subheader(\" the response is :\")\n",
    "    st.write(response)\n"
   ]
  },
  {
   "cell_type": "code",
   "execution_count": 5,
   "metadata": {},
   "outputs": [],
   "source": [
    "model=genai.GenerativeModel('gemini-pro-vision')"
   ]
  },
  {
   "cell_type": "code",
   "execution_count": 6,
   "metadata": {},
   "outputs": [],
   "source": [
    "def get_gemini_response(input,image,prompt):\n",
    "    response=model.generate_content([input,image[0],prompt])\n",
    "    return response.text"
   ]
  },
  {
   "cell_type": "code",
   "execution_count": 7,
   "metadata": {},
   "outputs": [],
   "source": [
    "\n",
    "def input_image(uploaded_file):\n",
    "    if uploaded_file is not None:\n",
    "        bytes_data=uploaded_file.getvalue()\n",
    "        image_parts=[{\"mime_type\":uploaded_file.type,\n",
    "                      \"data\":bytes_data}]\n",
    "        return image_parts\n",
    "    else:\n",
    "        raise FileNotFoundError(\"No file uplaoded\")\n"
   ]
  },
  {
   "cell_type": "code",
   "execution_count": 9,
   "metadata": {},
   "outputs": [
    {
     "name": "stderr",
     "output_type": "stream",
     "text": [
      "2024-06-07 17:17:18.242 \n",
      "  \u001b[33m\u001b[1mWarning:\u001b[0m to view this Streamlit app on a browser, run it with the following\n",
      "  command:\n",
      "\n",
      "    streamlit run /home/pradeep/courses/Langchain_series/venv/lib/python3.9/site-packages/ipykernel_launcher.py [ARGUMENTS]\n",
      "2024-06-07 17:17:18.243 Session state does not function when running a script without `streamlit run`\n"
     ]
    }
   ],
   "source": [
    "st.set_page_config(page_title=\"Multilanguage Invoice Extractor App\")\n",
    "st.header(\"Google Gemini Application\")\n",
    "input=st.text_input(\"Input Prompt: \",key=\"input\")\n",
    "uploaded_file=st.file_uploader(\"Choose an Image...\",type=[\"jpg\",'png','jpeg'])\n",
    "iamge=\"\"\n",
    "if uploaded_file is not None:\n",
    "    image=Image.open(uploaded_file)\n",
    "    st.image(image,caption=\"Uploaded Image.\",use_column_width=True)\n"
   ]
  },
  {
   "cell_type": "code",
   "execution_count": 10,
   "metadata": {},
   "outputs": [],
   "source": [
    "\n",
    "submit=st.button(\"Tell me about the Invoice\")\n",
    "input_prompt=\"\"\"\n",
    "You are an expert in understaing Invoices . User will uplozd an image , you has to answer the questions based on the invoice image given \n",
    "\"\"\"\n",
    "\n",
    "if submit:\n",
    "    image_data=input_image(uploaded_file)\n",
    "    response=get_gemini_response(input_prompt,image_data,input)\n",
    "    st.subheader(\" the response is :\")\n",
    "    st.write(response)\n"
   ]
  },
  {
   "cell_type": "code",
   "execution_count": 12,
   "metadata": {},
   "outputs": [
    {
     "name": "stdout",
     "output_type": "stream",
     "text": [
      "\u001b[0m\n",
      "\u001b[34m\u001b[1m  You can now view your Streamlit app in your browser.\u001b[0m\n",
      "\u001b[0m\n",
      "\u001b[34m  Local URL: \u001b[0m\u001b[1mhttp://localhost:8501\u001b[0m\n",
      "\u001b[34m  Network URL: \u001b[0m\u001b[1mhttp://172.16.0.212:8501\u001b[0m\n",
      "\u001b[0m\n",
      "^C\n",
      "\u001b[34m  Stopping...\u001b[0m\n"
     ]
    }
   ],
   "source": [
    "!streamlit run app.py"
   ]
  },
  {
   "cell_type": "code",
   "execution_count": null,
   "metadata": {},
   "outputs": [],
   "source": []
  }
 ],
 "metadata": {
  "kernelspec": {
   "display_name": "Python 3",
   "language": "python",
   "name": "python3"
  },
  "language_info": {
   "codemirror_mode": {
    "name": "ipython",
    "version": 3
   },
   "file_extension": ".py",
   "mimetype": "text/x-python",
   "name": "python",
   "nbconvert_exporter": "python",
   "pygments_lexer": "ipython3",
   "version": "3.9.0"
  }
 },
 "nbformat": 4,
 "nbformat_minor": 2
}
